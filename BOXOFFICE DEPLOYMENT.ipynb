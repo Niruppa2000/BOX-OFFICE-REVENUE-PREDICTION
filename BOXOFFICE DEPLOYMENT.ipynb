{
 "cells": [
  {
   "cell_type": "code",
   "execution_count": 1,
   "id": "4eca0088",
   "metadata": {},
   "outputs": [
    {
     "name": "stdout",
     "output_type": "stream",
     "text": [
      "Predicted World Revenue: $1,434,597,309.00\n"
     ]
    },
    {
     "name": "stderr",
     "output_type": "stream",
     "text": [
      "C:\\Anaconda\\envs\\aiml\\lib\\site-packages\\sklearn\\base.py:493: FutureWarning: The feature names should match those that were passed during fit. Starting version 1.2, an error will be raised.\n",
      "Feature names must be in the same order as they were in fit.\n",
      "\n",
      "  warnings.warn(message, FutureWarning)\n"
     ]
    }
   ],
   "source": [
    "import pandas as pd\n",
    "import pickle\n",
    "\n",
    "# Load saved components\n",
    "model = pickle.load(open(\"DecisionTree_model.sav\", \"rb\"))\n",
    "scaler = pickle.load(open(\"scaler.sav\", \"rb\"))\n",
    "selected_features = pickle.load(open(\"selected_features.sav\", \"rb\"))\n",
    "\n",
    "# Sample input dictionary (make sure to use exact selected feature names)\n",
    "user_input = {\n",
    "    'budget': 50000000,\n",
    "    'domestic_revenue': 40000000,\n",
    "    'opening_revenue': 15000000,\n",
    "    'opening_theaters': 2000,\n",
    "    'release_days': 7\n",
    "}\n",
    "\n",
    "# Convert to DataFrame\n",
    "user_df = pd.DataFrame([user_input])\n",
    "\n",
    "# Scale the features\n",
    "scaled_input = scaler.transform(user_df)\n",
    "\n",
    "# Predict revenue\n",
    "prediction = model.predict(scaled_input)[0]\n",
    "print(f\"Predicted World Revenue: ${prediction:,.2f}\")\n"
   ]
  },
  {
   "cell_type": "code",
   "execution_count": null,
   "id": "f48fecb0",
   "metadata": {},
   "outputs": [],
   "source": []
  }
 ],
 "metadata": {
  "kernelspec": {
   "display_name": "Python 3 (ipykernel)",
   "language": "python",
   "name": "python3"
  },
  "language_info": {
   "codemirror_mode": {
    "name": "ipython",
    "version": 3
   },
   "file_extension": ".py",
   "mimetype": "text/x-python",
   "name": "python",
   "nbconvert_exporter": "python",
   "pygments_lexer": "ipython3",
   "version": "3.7.1"
  }
 },
 "nbformat": 4,
 "nbformat_minor": 5
}
